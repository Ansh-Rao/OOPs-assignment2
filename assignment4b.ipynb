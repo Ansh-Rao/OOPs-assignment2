{
 "cells": [
  {
   "cell_type": "markdown",
   "id": "e7ce7ee5-95bf-43c0-a32e-8916f4975b07",
   "metadata": {},
   "source": [
    "#### Q1. Explain Class and Object with respect to Object-Oriented Programming. Give a suitable example."
   ]
  },
  {
   "cell_type": "code",
   "execution_count": 2,
   "id": "0d1c1eb0-1200-4264-ae43-b8a5d2b42057",
   "metadata": {},
   "outputs": [],
   "source": [
    "# Object :- it have states and behaviors. \n",
    "            # Example: A dog has states - color, name, breed as well as behaviors – wagging the tail, barking, eating."
   ]
  },
  {
   "cell_type": "code",
   "execution_count": 3,
   "id": "bfae9cb3-de84-4ca7-8971-b30fc17879f2",
   "metadata": {},
   "outputs": [],
   "source": [
    "# class :- it can be defined as a template/blueprint that describes the behavior/state that the object of its type support."
   ]
  },
  {
   "cell_type": "code",
   "execution_count": 5,
   "id": "21265239-c960-402c-bc11-5fc612c0a11c",
   "metadata": {},
   "outputs": [],
   "source": [
    "# example\n",
    "\n",
    "class pwskills:\n",
    "    \n",
    "    def __init__(self, number, stu_id, email):\n",
    "        self.number= number\n",
    "        self.stu_id= stu_id\n",
    "        self.email= email\n",
    "        \n",
    "    def return_details(self):\n",
    "        return self.stu_id, self.number,  self.email"
   ]
  },
  {
   "cell_type": "code",
   "execution_count": 6,
   "id": "bd979db9-fe2c-4469-aa12-2c5b5cedcf4c",
   "metadata": {},
   "outputs": [],
   "source": [
    "ansh = pwskills(123456789, 987 ,\"ansh@mail.com\")"
   ]
  },
  {
   "cell_type": "code",
   "execution_count": 7,
   "id": "3a6ff9bf-76c6-4175-bff9-7410bcc1d1cf",
   "metadata": {},
   "outputs": [
    {
     "data": {
      "text/plain": [
       "(987, 123456789, 'ansh@mail.com')"
      ]
     },
     "execution_count": 7,
     "metadata": {},
     "output_type": "execute_result"
    }
   ],
   "source": [
    "ansh.return_details()"
   ]
  },
  {
   "cell_type": "code",
   "execution_count": null,
   "id": "16ba1450-b26b-4339-b8b2-e3d59eaabe37",
   "metadata": {},
   "outputs": [],
   "source": []
  },
  {
   "cell_type": "code",
   "execution_count": null,
   "id": "90935402-90af-465f-9d71-dcb2477a6d9e",
   "metadata": {},
   "outputs": [],
   "source": []
  },
  {
   "cell_type": "markdown",
   "id": "1ecdca9e-256b-44aa-b70f-da8d3cd6c9d3",
   "metadata": {},
   "source": [
    "#### Q2. Name the four pillars of OOPs."
   ]
  },
  {
   "cell_type": "code",
   "execution_count": 4,
   "id": "2a63ac3a-35ab-4b95-b42f-e75fe54cc26d",
   "metadata": {},
   "outputs": [],
   "source": [
    "#  the four pillars of OOPs are :-\n",
    "#  1) abstraction,\n",
    "#  2) encapsulation,\n",
    "#  3) inheritance, and\n",
    "#  4) polymorphism "
   ]
  },
  {
   "cell_type": "code",
   "execution_count": null,
   "id": "a47c8f6e-da08-4925-8e9b-207c50d1b485",
   "metadata": {},
   "outputs": [],
   "source": []
  },
  {
   "cell_type": "code",
   "execution_count": null,
   "id": "45e3dbe9-4839-443c-a396-0650cc6d7f71",
   "metadata": {},
   "outputs": [],
   "source": []
  },
  {
   "cell_type": "markdown",
   "id": "b6fd8d7e-c962-49d0-94b2-48e632080ae7",
   "metadata": {},
   "source": [
    "#### Q3. Explain why the __init__() function is used. Give a suitable example."
   ]
  },
  {
   "cell_type": "code",
   "execution_count": 5,
   "id": "0adae462-2463-4451-b863-b85d6196827d",
   "metadata": {},
   "outputs": [],
   "source": [
    "# __init__ method :- it is used to initialize the attributes of an object as soon as the object is formed."
   ]
  },
  {
   "cell_type": "code",
   "execution_count": 6,
   "id": "b1413867-19ea-41ac-8c7a-dfa10ccd282e",
   "metadata": {},
   "outputs": [],
   "source": [
    "# example\n",
    "\n",
    "class class_name():\n",
    "           \n",
    "          def __init__(self):\n",
    "                print(\"hello! world\")"
   ]
  },
  {
   "cell_type": "code",
   "execution_count": 7,
   "id": "2f715a2d-4242-4aa2-bc93-7412e236ee72",
   "metadata": {},
   "outputs": [
    {
     "name": "stdout",
     "output_type": "stream",
     "text": [
      "hello! world\n"
     ]
    }
   ],
   "source": [
    "pw = class_name()"
   ]
  },
  {
   "cell_type": "code",
   "execution_count": null,
   "id": "a0c31f45-7960-4d87-b1fc-1b7542bff405",
   "metadata": {},
   "outputs": [],
   "source": []
  },
  {
   "cell_type": "code",
   "execution_count": null,
   "id": "a773a278-b997-496b-9a57-0b0676f2ae34",
   "metadata": {},
   "outputs": [],
   "source": []
  },
  {
   "cell_type": "markdown",
   "id": "c231f376-95de-4d0e-90cb-74bd06422a57",
   "metadata": {},
   "source": [
    "#### Q4. Why self is used in OOPs?"
   ]
  },
  {
   "cell_type": "code",
   "execution_count": 8,
   "id": "86d8ae8d-68ee-474f-977a-5338e191fd88",
   "metadata": {},
   "outputs": [],
   "source": [
    "# Self represents the instance of the class. By using the “self” we can access the attributes and methods of the class in Python.\n",
    "# It binds the attributes with the given arguments."
   ]
  },
  {
   "cell_type": "code",
   "execution_count": null,
   "id": "06238357-dc28-4ff4-bdc9-71a73b45ca67",
   "metadata": {},
   "outputs": [],
   "source": []
  },
  {
   "cell_type": "code",
   "execution_count": null,
   "id": "9eea32ac-a9aa-4787-8a03-47db84b6a2e8",
   "metadata": {},
   "outputs": [],
   "source": []
  },
  {
   "cell_type": "markdown",
   "id": "ba8a00c4-dcfc-4f2c-9936-28b587484aba",
   "metadata": {},
   "source": [
    "#### Q5. What is inheritance? Give an example for each type of inheritance."
   ]
  },
  {
   "cell_type": "code",
   "execution_count": 9,
   "id": "942452a3-5623-4d89-8c5b-17f42b8f233a",
   "metadata": {},
   "outputs": [],
   "source": [
    "# inheritence :- It can be defined as the process of how a child receives genetic information from the parent."
   ]
  },
  {
   "cell_type": "code",
   "execution_count": 44,
   "id": "0e73c455-4187-4bc4-a28b-37c76543e92c",
   "metadata": {},
   "outputs": [],
   "source": [
    "# its type with example :-"
   ]
  },
  {
   "cell_type": "code",
   "execution_count": null,
   "id": "8a6aceb5-95b4-431d-8063-5966b8b13cf9",
   "metadata": {},
   "outputs": [],
   "source": []
  },
  {
   "cell_type": "code",
   "execution_count": 12,
   "id": "9722e5dd-d1ce-411e-a98f-724ef67cf7be",
   "metadata": {},
   "outputs": [],
   "source": [
    "# 1) single inheritence\n"
   ]
  },
  {
   "cell_type": "code",
   "execution_count": 13,
   "id": "eb18df66-b92c-4acc-a924-147939a15d2b",
   "metadata": {},
   "outputs": [],
   "source": [
    "class test:                          # parent class\n",
    "    def math_test(self):\n",
    "        print(\"this is my first class\")"
   ]
  },
  {
   "cell_type": "code",
   "execution_count": 14,
   "id": "f7cd4068-b244-44ae-9cbe-2dbc17d6cf24",
   "metadata": {},
   "outputs": [],
   "source": [
    "class child_test(test):               # child class\n",
    "    pass"
   ]
  },
  {
   "cell_type": "code",
   "execution_count": 15,
   "id": "eb1855a1-c94a-4a64-b1ce-97bac0ad91d3",
   "metadata": {},
   "outputs": [],
   "source": [
    "child_test_obj = child_test()"
   ]
  },
  {
   "cell_type": "code",
   "execution_count": 45,
   "id": "a21ec19c-cd4f-4364-a0f8-f526405f3b54",
   "metadata": {},
   "outputs": [
    {
     "name": "stdout",
     "output_type": "stream",
     "text": [
      "this is my first class\n"
     ]
    }
   ],
   "source": [
    "child_test_obj.math_test()              #here we can access one class through another class (called single inheritence)"
   ]
  },
  {
   "cell_type": "code",
   "execution_count": null,
   "id": "bc515e44-793a-4223-804c-38f2b5d92665",
   "metadata": {},
   "outputs": [],
   "source": []
  },
  {
   "cell_type": "code",
   "execution_count": 17,
   "id": "ee6868f2-39de-42b3-8af3-383838806504",
   "metadata": {},
   "outputs": [],
   "source": [
    "# 2) multiple inheritence"
   ]
  },
  {
   "cell_type": "code",
   "execution_count": 27,
   "id": "3bc258e2-fd29-473f-b471-602de083e06c",
   "metadata": {},
   "outputs": [],
   "source": [
    "class class1:\n",
    "    def class1(self):\n",
    "        print(\"this is class1\")"
   ]
  },
  {
   "cell_type": "code",
   "execution_count": 28,
   "id": "4db62e5c-23b0-4f94-ad15-4e449e2a4fef",
   "metadata": {},
   "outputs": [],
   "source": [
    "class class2:\n",
    "    def class2(self):\n",
    "        print(\"this is class2\")"
   ]
  },
  {
   "cell_type": "code",
   "execution_count": 29,
   "id": "1d9ce5bb-6a89-43ae-b798-c93af60896e4",
   "metadata": {},
   "outputs": [],
   "source": [
    "class class3(class1,class2):\n",
    "    pass"
   ]
  },
  {
   "cell_type": "code",
   "execution_count": 30,
   "id": "ef57e92c-c21a-4f6f-83c8-e8c0207e152b",
   "metadata": {},
   "outputs": [],
   "source": [
    "class_obj = class3()"
   ]
  },
  {
   "cell_type": "code",
   "execution_count": 31,
   "id": "61ad8dbe-76fe-4f64-9d09-a3abe9c4f159",
   "metadata": {},
   "outputs": [
    {
     "name": "stdout",
     "output_type": "stream",
     "text": [
      "this is class1\n"
     ]
    }
   ],
   "source": [
    "class_obj.class1()"
   ]
  },
  {
   "cell_type": "code",
   "execution_count": 33,
   "id": "53535485-0221-491e-8eb1-54c6934dbe25",
   "metadata": {},
   "outputs": [
    {
     "name": "stdout",
     "output_type": "stream",
     "text": [
      "this is class2\n"
     ]
    }
   ],
   "source": [
    "class_obj.class2()           ## here we  can access both  class from class3 ( this is called multiple inheritence )"
   ]
  },
  {
   "cell_type": "code",
   "execution_count": null,
   "id": "9594a551-42e8-4849-bc84-1221a051b659",
   "metadata": {},
   "outputs": [],
   "source": []
  },
  {
   "cell_type": "code",
   "execution_count": 34,
   "id": "f2f78b0c-9ae0-4553-8d65-3e26642250eb",
   "metadata": {},
   "outputs": [],
   "source": [
    "# 3) multi-level inheritence"
   ]
  },
  {
   "cell_type": "code",
   "execution_count": 35,
   "id": "48a40d88-dfb9-4f92-ab17-686a099735cc",
   "metadata": {},
   "outputs": [],
   "source": [
    "class class1:\n",
    "    def class1(self):\n",
    "        print(\"this is method from class1\")"
   ]
  },
  {
   "cell_type": "code",
   "execution_count": 36,
   "id": "39f46b1a-0f66-4d64-a2b8-c6ecfd098a13",
   "metadata": {},
   "outputs": [],
   "source": [
    "class class2(class1):\n",
    "    def class2(self):\n",
    "        print(\"this is method from class2\")"
   ]
  },
  {
   "cell_type": "code",
   "execution_count": 37,
   "id": "f3232eba-8aae-4881-bc9b-7e09c79a7d1e",
   "metadata": {},
   "outputs": [],
   "source": [
    "class class3(class2):\n",
    "    pass"
   ]
  },
  {
   "cell_type": "code",
   "execution_count": 38,
   "id": "4c31cf94-cefe-40d8-8d85-c6fe54ced07c",
   "metadata": {},
   "outputs": [],
   "source": [
    "class_obj = class3()"
   ]
  },
  {
   "cell_type": "code",
   "execution_count": 41,
   "id": "74a461dd-d1d8-44f9-83df-c01e88fad276",
   "metadata": {},
   "outputs": [
    {
     "name": "stdout",
     "output_type": "stream",
     "text": [
      "this is method from class2\n"
     ]
    }
   ],
   "source": [
    "class_obj.class2() "
   ]
  },
  {
   "cell_type": "code",
   "execution_count": 43,
   "id": "6a6369c3-83f4-4af6-917f-939ce235a0e5",
   "metadata": {},
   "outputs": [
    {
     "name": "stdout",
     "output_type": "stream",
     "text": [
      "this is method from class1\n"
     ]
    }
   ],
   "source": [
    "class_obj.class1()          # here we can access other classes with help of any class (called multi-level inheritence)"
   ]
  },
  {
   "cell_type": "code",
   "execution_count": null,
   "id": "509ae031-d677-4a3a-a6a5-7ce28b26c19c",
   "metadata": {},
   "outputs": [],
   "source": []
  }
 ],
 "metadata": {
  "kernelspec": {
   "display_name": "Python 3 (ipykernel)",
   "language": "python",
   "name": "python3"
  },
  "language_info": {
   "codemirror_mode": {
    "name": "ipython",
    "version": 3
   },
   "file_extension": ".py",
   "mimetype": "text/x-python",
   "name": "python",
   "nbconvert_exporter": "python",
   "pygments_lexer": "ipython3",
   "version": "3.10.8"
  }
 },
 "nbformat": 4,
 "nbformat_minor": 5
}
